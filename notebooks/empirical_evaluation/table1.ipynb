{
 "cells": [
  {
   "cell_type": "markdown",
   "metadata": {
    "toc": "true"
   },
   "source": [
    "# Table of Contents\n",
    " <p>"
   ]
  },
  {
   "cell_type": "code",
   "execution_count": 8,
   "metadata": {},
   "outputs": [],
   "source": [
    "import pandas as pd\n",
    "import numpy as np\n",
    "import seaborn as sns\n",
    "\n",
    "from scipy import optimize\n",
    "from functools import partial"
   ]
  },
  {
   "cell_type": "code",
   "execution_count": 51,
   "metadata": {},
   "outputs": [],
   "source": [
    "# Variance for M_L mechanism\n",
    "def varVL(K, g, e, ν2=1):\n",
    "    '''\n",
    "    K is the total number of clients.\n",
    "    g = n / K-n\n",
    "    e is epsilon (overall dp budget)\n",
    "    ν2 = 1  # to get an upper-bound of the variance of mechanism L\n",
    "    '''\n",
    "    def varL(k, e):\n",
    "        return 2 * ((k / e)**2)\n",
    "\n",
    "    if e < 2 / 3:\n",
    "        e1 = np.log(3) - (e / 2)\n",
    "        vk = varL(2 / 3, e)\n",
    "        \n",
    "    elif e >= 2 / 3:\n",
    "        e1 = np.log(2 / e) + e - 1\n",
    "        vk = 2\n",
    "    el = np.exp(-e1)       \n",
    "       \n",
    "    g0 = (1 + g) / g\n",
    "    g1 = g0 * (1 + g)\n",
    "    g2 = g0 * (1 + g**3) / g\n",
    "    \n",
    "    term1 = el*ν2 + varL(2, e)*(1 + el)\n",
    "    term2 = vk * (el + el*el)\n",
    "    \n",
    "    return (1 / K) * (g1 * term1 + g2 * term2)\n",
    "varVL_vect = np.vectorize(varVL)\n",
    "\n",
    "\n",
    "# Variance for M_R mechanism\n",
    "def varVR(K, g, e, ν2=0):\n",
    "    '''\n",
    "    K is the total number of clients.\n",
    "    g = n / K-n\n",
    "    beta = alpha = e (epsilon, overall dp budget)\n",
    "    ν2 = 0  # to get an upper-bound of the variance of mechanism L\n",
    "    '''\n",
    "    b = np.exp(e) / (1 + np.exp(e))\n",
    "    b1 = 2 * b - 1\n",
    "    \n",
    "    a = b\n",
    "    a1 = (1 - a) / a\n",
    "    \n",
    "    g0 = (1 + g) / g\n",
    "    g1 = g0 * (1 + g)\n",
    "    g2 = g0 * (1 + g**3) / g\n",
    "    \n",
    "    d = a * b1 * b1\n",
    "    term1 = (1 - ν2 * a * b1 * b1) / d\n",
    "    term2 = ((1 - a) / a) / d\n",
    "    \n",
    "    return (1 / K) * (g1 * term1 + g2 * term2)\n",
    "varVR_vect = np.vectorize(varVR)\n",
    "\n",
    "\n",
    "# Numerically find the epsilon that satisfies bound alpha\n",
    "def find_epsilon_for_error(K, alpha, var, g=1):\n",
    "    prob = 0.01  #  we define prob = 1 / M^2\n",
    "    def obj(x):\n",
    "        return (var(K, g, x) / prob) - (alpha**2)\n",
    "        #return 10 * np.sqrt(var(K, g, x)) - alpha\n",
    "    sol = optimize.root(obj, 0.000001)\n",
    "    #print((var(K, g, sol.x[0]) / (alpha**2)) - prob)\n",
    "    if (var(K, g, sol.x[0]) / prob) - (alpha**2) > 0.01:\n",
    "        return np.nan\n",
    "    return sol.x[0]\n",
    "find_epsilon_for_error_vect = np.vectorize(find_epsilon_for_error)"
   ]
  },
  {
   "cell_type": "code",
   "execution_count": 57,
   "metadata": {},
   "outputs": [
    {
     "data": {
      "text/plain": [
       "<matplotlib.lines.Line2D at 0x7fa4050d52d0>"
      ]
     },
     "execution_count": 57,
     "metadata": {},
     "output_type": "execute_result"
    },
    {
     "data": {
      "image/png": "[encoded data removed]",
      "text/plain": [
       "<Figure size 432x288 with 1 Axes>"
      ]
     },
     "metadata": {
      "needs_background": "light"
     },
     "output_type": "display_data"
    }
   ],
   "source": [
    "# plot variance graph as a sanity check\n",
    "xs = np.linspace(0.1, 4, 100)\n",
    "ax1 = sns.lineplot(x=xs, y =varVL_vect(10000, 1, xs), color='blue')\n",
    "ax2 = sns.lineplot(x=xs, y =varVR_vect(10000, 1, xs), color='orange')\n",
    "ax1.set(yscale='log')\n",
    "ax1.axhline(0)"
   ]
  },
  {
   "cell_type": "code",
   "execution_count": 61,
   "metadata": {},
   "outputs": [
    {
     "data": {
      "text/plain": [
       "array([0.2517257 , 0.02411457, 0.00187209, 0.00103896, 0.00063254])"
      ]
     },
     "execution_count": 61,
     "metadata": {},
     "output_type": "execute_result"
    }
   ],
   "source": [
    "# we plugin the variance to obtain the Chebyshev bound\n",
    "1 * np.sqrt(varVR_vect(10000000, 1, np.array([0.01, 0.1, 1, 1.78, 10])))"
   ]
  },
  {
   "cell_type": "code",
   "execution_count": 62,
   "metadata": {},
   "outputs": [
    {
     "data": {
      "text/plain": [
       "array([2.10500417e-01, 2.11920119e-02, 2.36643191e-03, 1.42995122e-03,\n",
       "       1.80998644e-04])"
      ]
     },
     "execution_count": 62,
     "metadata": {},
     "output_type": "execute_result"
    }
   ],
   "source": [
    "1 * np.sqrt(varVL_vect(10000000, 1, np.array([0.01, 0.1, 1, 1.78, 10])))"
   ]
  },
  {
   "cell_type": "code",
   "execution_count": 58,
   "metadata": {},
   "outputs": [
    {
     "data": {
      "text/plain": [
       "array([0.20391696])"
      ]
     },
     "execution_count": 58,
     "metadata": {},
     "output_type": "execute_result"
    }
   ],
   "source": [
    "find_epsilon_for_error_vect(10000000, np.array([0.1048]), varVL)"
   ]
  },
  {
   "cell_type": "code",
   "execution_count": 55,
   "metadata": {},
   "outputs": [
    {
     "data": {
      "text/html": [
       "<div>\n",
       "<style scoped>\n",
       "    .dataframe tbody tr th:only-of-type {\n",
       "        vertical-align: middle;\n",
       "    }\n",
       "\n",
       "    .dataframe tbody tr th {\n",
       "        vertical-align: top;\n",
       "    }\n",
       "\n",
       "    .dataframe thead tr th {\n",
       "        text-align: left;\n",
       "    }\n",
       "\n",
       "    .dataframe thead tr:last-of-type th {\n",
       "        text-align: right;\n",
       "    }\n",
       "</style>\n",
       "<table border=\"1\" class=\"dataframe\">\n",
       "  <thead>\n",
       "    <tr>\n",
       "      <th>Mechanism</th>\n",
       "      <th colspan=\"3\" halign=\"left\">$\\mathcal M_R$</th>\n",
       "      <th colspan=\"3\" halign=\"left\">$\\mathcal M_L$</th>\n",
       "    </tr>\n",
       "    <tr>\n",
       "      <th>$\\alpha$</th>\n",
       "      <th>0.100</th>\n",
       "      <th>0.010</th>\n",
       "      <th>0.001</th>\n",
       "      <th>0.100</th>\n",
       "      <th>0.010</th>\n",
       "      <th>0.001</th>\n",
       "    </tr>\n",
       "    <tr>\n",
       "      <th>K</th>\n",
       "      <th></th>\n",
       "      <th></th>\n",
       "      <th></th>\n",
       "      <th></th>\n",
       "      <th></th>\n",
       "      <th></th>\n",
       "    </tr>\n",
       "  </thead>\n",
       "  <tbody>\n",
       "    <tr>\n",
       "      <th>$10^5$</th>\n",
       "      <td>1.860958</td>\n",
       "      <td>29.782089</td>\n",
       "      <td>30.446822</td>\n",
       "      <td>2.560316</td>\n",
       "      <td>17.888992</td>\n",
       "      <td>178.885438</td>\n",
       "    </tr>\n",
       "    <tr>\n",
       "      <th>$10^6$</th>\n",
       "      <td>0.632751</td>\n",
       "      <td>34.017666</td>\n",
       "      <td>29.175259</td>\n",
       "      <td>0.714442</td>\n",
       "      <td>6.322309</td>\n",
       "      <td>56.568542</td>\n",
       "    </tr>\n",
       "    <tr>\n",
       "      <th>$10^7$</th>\n",
       "      <td>0.228162</td>\n",
       "      <td>1.860958</td>\n",
       "      <td>28.597347</td>\n",
       "      <td>0.213885</td>\n",
       "      <td>2.560316</td>\n",
       "      <td>17.888992</td>\n",
       "    </tr>\n",
       "    <tr>\n",
       "      <th>$10^8$</th>\n",
       "      <td>0.077071</td>\n",
       "      <td>0.632751</td>\n",
       "      <td>35.933029</td>\n",
       "      <td>0.066845</td>\n",
       "      <td>0.714442</td>\n",
       "      <td>6.322309</td>\n",
       "    </tr>\n",
       "    <tr>\n",
       "      <th>$10^9$</th>\n",
       "      <td>0.024987</td>\n",
       "      <td>0.228162</td>\n",
       "      <td>1.860958</td>\n",
       "      <td>0.021067</td>\n",
       "      <td>0.213885</td>\n",
       "      <td>2.560316</td>\n",
       "    </tr>\n",
       "  </tbody>\n",
       "</table>\n",
       "</div>"
      ],
      "text/plain": [
       "Mechanism $\\mathcal M_R$                       $\\mathcal M_L$             \\\n",
       "$\\alpha$           0.100      0.010      0.001          0.100      0.010   \n",
       "K                                                                          \n",
       "$10^5$          1.860958  29.782089  30.446822       2.560316  17.888992   \n",
       "$10^6$          0.632751  34.017666  29.175259       0.714442   6.322309   \n",
       "$10^7$          0.228162   1.860958  28.597347       0.213885   2.560316   \n",
       "$10^8$          0.077071   0.632751  35.933029       0.066845   0.714442   \n",
       "$10^9$          0.024987   0.228162   1.860958       0.021067   0.213885   \n",
       "\n",
       "Mechanism              \n",
       "$\\alpha$        0.001  \n",
       "K                      \n",
       "$10^5$     178.885438  \n",
       "$10^6$      56.568542  \n",
       "$10^7$      17.888992  \n",
       "$10^8$       6.322309  \n",
       "$10^9$       2.560316  "
      ]
     },
     "execution_count": 55,
     "metadata": {},
     "output_type": "execute_result"
    }
   ],
   "source": [
    "ni, nf = 5, 9\n",
    "ns = np.logspace(ni, nf, np.abs(nf - ni) + 1)\n",
    "\n",
    "ai, af = 1, 3\n",
    "alphas = np.logspace(-ai, -af, np.abs(af - ai) + 1)\n",
    "\n",
    "mechanisms = {\"$\\mathcal M_R$\": varVR, \"$\\mathcal M_L$\": varVL}\n",
    "\n",
    "results, cols = [], []\n",
    "for name, m in mechanisms.items():\n",
    "    results_m = []\n",
    "    for n in ns:\n",
    "        results_m.append(find_epsilon_for_error_vect(n, alphas, m))\n",
    "    results.append(np.vstack(results_m))\n",
    "columns = pd.MultiIndex.from_product((mechanisms, alphas), names=('Mechanism', '$\\\\alpha$'))\n",
    "df = pd.DataFrame(np.hstack(results), columns=columns)\n",
    "df.insert(0, 'K', value=[f\"$10^{int(np.log10(x))}$\" for x in ns])\n",
    "df.set_index('K')"
   ]
  },
  {
   "cell_type": "code",
   "execution_count": 56,
   "metadata": {},
   "outputs": [
    {
     "name": "stdout",
     "output_type": "stream",
     "text": [
      "\\begin{tabular}{lrrrrrr}\n",
      "\\toprule\n",
      "      K & \\multicolumn{3}{l}{$\\mathcal M_R$} & \\multicolumn{3}{l}{$\\mathcal M_L$} \\\\\n",
      "        &            0.1 &  0.01 & 0.001 &            0.1 &  0.01 &  0.001 \\\\\n",
      "\\midrule\n",
      " $10^5$ &           1.86 & 29.78 & 30.45 &           2.56 & 17.89 & 178.89 \\\\\n",
      " $10^6$ &           0.63 & 34.02 & 29.18 &           0.71 &  6.32 &  56.57 \\\\\n",
      " $10^7$ &           0.23 &  1.86 & 28.60 &           0.21 &  2.56 &  17.89 \\\\\n",
      " $10^8$ &           0.08 &  0.63 & 35.93 &           0.07 &  0.71 &   6.32 \\\\\n",
      " $10^9$ &           0.02 &  0.23 &  1.86 &           0.02 &  0.21 &   2.56 \\\\\n",
      "\\bottomrule\n",
      "\\end{tabular}\n",
      "\n"
     ]
    }
   ],
   "source": [
    "print(df.to_latex(index=False, escape=False, float_format=\"%.2f\").replace('NaN', '-'))"
   ]
  },
  {
   "cell_type": "code",
   "execution_count": null,
   "metadata": {},
   "outputs": [],
   "source": []
  },
  {
   "cell_type": "code",
   "execution_count": null,
   "metadata": {},
   "outputs": [],
   "source": []
  }
 ],
 "metadata": {
  "kernelspec": {
   "display_name": "Python 3",
   "language": "python",
   "name": "python3"
  },
  "language_info": {
   "codemirror_mode": {
    "name": "ipython",
    "version": 3
   },
   "file_extension": ".py",
   "mimetype": "text/x-python",
   "name": "python",
   "nbconvert_exporter": "python",
   "pygments_lexer": "ipython3",
   "version": "3.7.6"
  },
  "latex_envs": {
   "bibliofile": "biblio.bib",
   "cite_by": "apalike",
   "current_citInitial": 1,
   "eqLabelWithNumbers": true,
   "eqNumInitial": 0
  },
  "toc": {
   "toc_cell": true,
   "toc_number_sections": true,
   "toc_threshold": 6,
   "toc_window_display": false
  }
 },
 "nbformat": 4,
 "nbformat_minor": 5
}
