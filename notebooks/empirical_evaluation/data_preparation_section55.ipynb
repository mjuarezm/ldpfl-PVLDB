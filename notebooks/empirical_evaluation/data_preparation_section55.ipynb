{
 "cells": [
  {
   "cell_type": "code",
   "execution_count": 101,
   "metadata": {},
   "outputs": [],
   "source": [
    "import os\n",
    "import numpy as np\n",
    "import numpy.random as rnd\n",
    "import pandas as pd\n",
    "from scipy.special import expit\n",
    "\n",
    "import seaborn as sns\n",
    "from matplotlib import pyplot as plt\n",
    "\n",
    "from sklearn.linear_model import LogisticRegression\n",
    "from sklearn.ensemble import RandomForestClassifier\n",
    "from sklearn.model_selection import train_test_split\n",
    "from sklearn.pipeline import make_pipeline\n",
    "from sklearn.preprocessing import StandardScaler\n",
    "from sklearn.preprocessing import Normalizer\n",
    "from sklearn.metrics import confusion_matrix, accuracy_score, recall_score, precision_score\n",
    "from sklearn.metrics import roc_curve"
   ]
  },
  {
   "cell_type": "code",
   "execution_count": 102,
   "metadata": {},
   "outputs": [],
   "source": [
    "def get_perf_df(df, value, metric, group):\n",
    "    df_copy = df.copy()\n",
    "    df_copy = df_copy[df_copy.Gender == group]\n",
    "    close_th = (df_copy[metric]\n",
    "                .sub(value)\n",
    "                .abs().groupby(df_copy.Subject)\n",
    "                .idxmin())\n",
    "    return  df_copy.loc[close_th]"
   ]
  },
  {
   "cell_type": "code",
   "execution_count": 103,
   "metadata": {},
   "outputs": [],
   "source": [
    "# DOWNLOAD DATA FROM:\n",
    "#    https://archive.ics.uci.edu/ml/machine-learning-databases/00427/Datasets_Healthy_Older_People.zip\n",
    "\n",
    "dfs = []\n",
    "for d in ['S1_Dataset', 'S2_Dataset']:\n",
    "    for f in os.listdir(d):\n",
    "        fpath = os.path.join(d, f)\n",
    "        if 'README' in fpath:\n",
    "            continue\n",
    "        part = pd.read_csv(fpath, header=None, names=['Time',\n",
    "                                                      'AccGf', 'AccGv', 'AccGl',\n",
    "                                                      'IdAntenna', 'RSSI', 'Phase', 'Freq',\n",
    "                                                      'Activity'])\n",
    "        part['Lying'] = (part.Activity == 3).astype(int)  # lying\n",
    "        part['Subject'] = f[:-1] \n",
    "        part['Gender'] = f[-1]\n",
    "        dfs.append(part)\n",
    "df = pd.concat(dfs)"
   ]
  },
  {
   "cell_type": "code",
   "execution_count": 104,
   "metadata": {},
   "outputs": [
    {
     "data": {
      "text/html": [
       "<div>\n",
       "<style scoped>\n",
       "    .dataframe tbody tr th:only-of-type {\n",
       "        vertical-align: middle;\n",
       "    }\n",
       "\n",
       "    .dataframe tbody tr th {\n",
       "        vertical-align: top;\n",
       "    }\n",
       "\n",
       "    .dataframe thead th {\n",
       "        text-align: right;\n",
       "    }\n",
       "</style>\n",
       "<table border=\"1\" class=\"dataframe\">\n",
       "  <thead>\n",
       "    <tr style=\"text-align: right;\">\n",
       "      <th></th>\n",
       "      <th>Time</th>\n",
       "      <th>AccGf</th>\n",
       "      <th>AccGv</th>\n",
       "      <th>AccGl</th>\n",
       "      <th>IdAntenna</th>\n",
       "      <th>RSSI</th>\n",
       "      <th>Phase</th>\n",
       "      <th>Freq</th>\n",
       "      <th>Activity</th>\n",
       "      <th>Lying</th>\n",
       "      <th>Subject</th>\n",
       "      <th>Gender</th>\n",
       "    </tr>\n",
       "  </thead>\n",
       "  <tbody>\n",
       "    <tr>\n",
       "      <th>0</th>\n",
       "      <td>0.000</td>\n",
       "      <td>0.31893</td>\n",
       "      <td>0.99674</td>\n",
       "      <td>0.088944</td>\n",
       "      <td>4</td>\n",
       "      <td>-57.5</td>\n",
       "      <td>1.50020</td>\n",
       "      <td>924.75</td>\n",
       "      <td>1</td>\n",
       "      <td>0</td>\n",
       "      <td>d1p37</td>\n",
       "      <td>M</td>\n",
       "    </tr>\n",
       "    <tr>\n",
       "      <th>1</th>\n",
       "      <td>0.025</td>\n",
       "      <td>0.31893</td>\n",
       "      <td>0.99674</td>\n",
       "      <td>0.088944</td>\n",
       "      <td>1</td>\n",
       "      <td>-56.5</td>\n",
       "      <td>5.15420</td>\n",
       "      <td>924.25</td>\n",
       "      <td>1</td>\n",
       "      <td>0</td>\n",
       "      <td>d1p37</td>\n",
       "      <td>M</td>\n",
       "    </tr>\n",
       "    <tr>\n",
       "      <th>2</th>\n",
       "      <td>0.250</td>\n",
       "      <td>0.31893</td>\n",
       "      <td>0.99674</td>\n",
       "      <td>0.088944</td>\n",
       "      <td>4</td>\n",
       "      <td>-58.5</td>\n",
       "      <td>5.71710</td>\n",
       "      <td>924.25</td>\n",
       "      <td>1</td>\n",
       "      <td>0</td>\n",
       "      <td>d1p37</td>\n",
       "      <td>M</td>\n",
       "    </tr>\n",
       "    <tr>\n",
       "      <th>3</th>\n",
       "      <td>0.500</td>\n",
       "      <td>0.31893</td>\n",
       "      <td>0.99674</td>\n",
       "      <td>0.088944</td>\n",
       "      <td>1</td>\n",
       "      <td>-57.0</td>\n",
       "      <td>5.59140</td>\n",
       "      <td>920.75</td>\n",
       "      <td>1</td>\n",
       "      <td>0</td>\n",
       "      <td>d1p37</td>\n",
       "      <td>M</td>\n",
       "    </tr>\n",
       "    <tr>\n",
       "      <th>4</th>\n",
       "      <td>0.550</td>\n",
       "      <td>0.31893</td>\n",
       "      <td>0.99674</td>\n",
       "      <td>0.088944</td>\n",
       "      <td>1</td>\n",
       "      <td>-57.5</td>\n",
       "      <td>0.22089</td>\n",
       "      <td>923.25</td>\n",
       "      <td>1</td>\n",
       "      <td>0</td>\n",
       "      <td>d1p37</td>\n",
       "      <td>M</td>\n",
       "    </tr>\n",
       "  </tbody>\n",
       "</table>\n",
       "</div>"
      ],
      "text/plain": [
       "    Time    AccGf    AccGv     AccGl  IdAntenna  RSSI    Phase    Freq  \\\n",
       "0  0.000  0.31893  0.99674  0.088944          4 -57.5  1.50020  924.75   \n",
       "1  0.025  0.31893  0.99674  0.088944          1 -56.5  5.15420  924.25   \n",
       "2  0.250  0.31893  0.99674  0.088944          4 -58.5  5.71710  924.25   \n",
       "3  0.500  0.31893  0.99674  0.088944          1 -57.0  5.59140  920.75   \n",
       "4  0.550  0.31893  0.99674  0.088944          1 -57.5  0.22089  923.25   \n",
       "\n",
       "   Activity  Lying Subject Gender  \n",
       "0         1      0   d1p37      M  \n",
       "1         1      0   d1p37      M  \n",
       "2         1      0   d1p37      M  \n",
       "3         1      0   d1p37      M  \n",
       "4         1      0   d1p37      M  "
      ]
     },
     "execution_count": 104,
     "metadata": {},
     "output_type": "execute_result"
    }
   ],
   "source": [
    "df.head()"
   ]
  },
  {
   "cell_type": "code",
   "execution_count": 105,
   "metadata": {},
   "outputs": [],
   "source": [
    "# filter out pacients with less than 50 samples\n",
    "df = df.groupby('Subject').filter(lambda x: len(x) >= 50)"
   ]
  },
  {
   "cell_type": "code",
   "execution_count": 106,
   "metadata": {},
   "outputs": [],
   "source": [
    "# the subject should have at least 10 samples in each class\n",
    "df = df.groupby('Subject').filter(lambda x: len(x[x.Lying == 0]) >= 6 and len(x[x.Lying == 1]) >= 6)"
   ]
  },
  {
   "cell_type": "code",
   "execution_count": 107,
   "metadata": {},
   "outputs": [
    {
     "data": {
      "text/plain": [
       "Subject  Gender\n",
       "d1p01    M         401\n",
       "d1p02    M         260\n",
       "d1p03    M         328\n",
       "d1p04    M         531\n",
       "d1p05    M         498\n",
       "                  ... \n",
       "d2p23    F         204\n",
       "d2p24    F         615\n",
       "d2p25    F         202\n",
       "d2p26    F         231\n",
       "d2p27    F         178\n",
       "Name: Gender, Length: 74, dtype: int64"
      ]
     },
     "execution_count": 107,
     "metadata": {},
     "output_type": "execute_result"
    }
   ],
   "source": [
    "df.groupby('Subject').Gender.value_counts()"
   ]
  },
  {
   "cell_type": "code",
   "execution_count": 108,
   "metadata": {},
   "outputs": [
    {
     "data": {
      "text/plain": [
       "<AxesSubplot:>"
      ]
     },
     "execution_count": 108,
     "metadata": {},
     "output_type": "execute_result"
    },
    {
     "data": {
      "image/png": "[encoded data removed]",
      "text/plain": [
       "<Figure size 432x288 with 1 Axes>"
      ]
     },
     "metadata": {
      "needs_background": "light"
     },
     "output_type": "display_data"
    }
   ],
   "source": [
    "df.Lying.astype(int).hist()"
   ]
  },
  {
   "cell_type": "code",
   "execution_count": 109,
   "metadata": {},
   "outputs": [
    {
     "data": {
      "text/plain": [
       "<AxesSubplot:>"
      ]
     },
     "execution_count": 109,
     "metadata": {},
     "output_type": "execute_result"
    },
    {
     "data": {
      "image/png": "[encoded data removed]",
      "text/plain": [
       "<Figure size 432x288 with 1 Axes>"
      ]
     },
     "metadata": {
      "needs_background": "light"
     },
     "output_type": "display_data"
    }
   ],
   "source": [
    "# dominated by females\n",
    "df.groupby(['Subject', 'Gender']).count().reset_index().Gender.hist()"
   ]
  },
  {
   "cell_type": "code",
   "execution_count": 110,
   "metadata": {},
   "outputs": [],
   "source": [
    "X = df.values[:, :-4]\n",
    "y = df.values[:, -3].astype(int)"
   ]
  },
  {
   "cell_type": "code",
   "execution_count": 111,
   "metadata": {},
   "outputs": [],
   "source": [
    "# normalize features\n",
    "normalize = Normalizer()\n",
    "X = normalize.fit_transform(X)"
   ]
  },
  {
   "cell_type": "code",
   "execution_count": 112,
   "metadata": {},
   "outputs": [],
   "source": [
    "X_train, X_test, y_train, y_test, _, subject = train_test_split(X, y, df[['Subject', 'Gender']],\n",
    "                                                                            test_size=0.3,\n",
    "                                                                stratify=df.Subject)"
   ]
  },
  {
   "cell_type": "code",
   "execution_count": 142,
   "metadata": {},
   "outputs": [
    {
     "name": "stdout",
     "output_type": "stream",
     "text": [
      "accuracy Random Forest=  0.8394268774703557\n",
      "recall Random Forest=  0.8170135038162959\n",
      "precision Random Forest=  0.9420791334436588\n",
      "FPR Random Forest=  0.1110310021629416\n",
      "FNR Random Forest=  0.18298649618370408\n"
     ]
    }
   ],
   "source": [
    "m = LogisticRegression(class_weight='balanced', penalty='elasticnet', solver='saga', l1_ratio=0.99, max_iter=1000)\n",
    "m.fit(X_train, y_train)\n",
    "y_pred = m.predict(X_test)\n",
    "print(\"accuracy Random Forest= \", accuracy_score(y_test, y_pred))\n",
    "print(\"recall Random Forest= \", recall_score(y_test, y_pred))\n",
    "print(\"precision Random Forest= \", precision_score(y_test, y_pred))\n",
    "tn, fp, fn, tp = confusion_matrix(y_test, y_pred, labels=[0,1]).ravel()\n",
    "print(\"FPR Random Forest= \", fp / (fp + tn))\n",
    "print(\"FNR Random Forest= \", fn / (fn + tp))"
   ]
  },
  {
   "cell_type": "code",
   "execution_count": 143,
   "metadata": {},
   "outputs": [],
   "source": [
    "results = []\n",
    "for i, row in subject.drop_duplicates().iterrows():\n",
    "    smask = (subject.Subject == row.Subject).astype(bool)\n",
    "    y_pred = m.predict(X_test[smask, :])\n",
    "    #print(y_pred.shape, y_test[smask].shape)\n",
    "    tn, fp, fn, tp = confusion_matrix(y_test[smask], y_pred, labels=[0,1]).ravel()\n",
    "    #accuracy_score(y_test[smask], y_pred)\n",
    "    fnr05 = fn / (fn + tp)\n",
    "    fpr05 = fp / (fp + tn)\n",
    "    scores = m.predict_proba(X_test[smask, :])\n",
    "    fpr, tpr, th = roc_curve(y_test[smask], scores[:, 1], drop_intermediate=False)\n",
    "    results.append((row.Subject, row.Gender, fnr05, fpr05, fpr, tpr, th))"
   ]
  },
  {
   "cell_type": "code",
   "execution_count": 144,
   "metadata": {},
   "outputs": [
    {
     "data": {
      "text/html": [
       "<div>\n",
       "<style scoped>\n",
       "    .dataframe tbody tr th:only-of-type {\n",
       "        vertical-align: middle;\n",
       "    }\n",
       "\n",
       "    .dataframe tbody tr th {\n",
       "        vertical-align: top;\n",
       "    }\n",
       "\n",
       "    .dataframe thead th {\n",
       "        text-align: right;\n",
       "    }\n",
       "</style>\n",
       "<table border=\"1\" class=\"dataframe\">\n",
       "  <thead>\n",
       "    <tr style=\"text-align: right;\">\n",
       "      <th></th>\n",
       "      <th>Subject</th>\n",
       "      <th>Gender</th>\n",
       "      <th>FNR05</th>\n",
       "      <th>FPR05</th>\n",
       "      <th>FPR</th>\n",
       "      <th>TPR</th>\n",
       "      <th>TH</th>\n",
       "    </tr>\n",
       "  </thead>\n",
       "  <tbody>\n",
       "    <tr>\n",
       "      <th>0</th>\n",
       "      <td>d2p24</td>\n",
       "      <td>F</td>\n",
       "      <td>0.030675</td>\n",
       "      <td>0.500000</td>\n",
       "      <td>[0.0, 0.0, 0.0, 0.0, 0.0, 0.0, 0.0, 0.0, 0.0, ...</td>\n",
       "      <td>[0.0, 0.006134969325153374, 0.0122699386503067...</td>\n",
       "      <td>[1.851216711722166, 0.8512167117221662, 0.8495...</td>\n",
       "    </tr>\n",
       "    <tr>\n",
       "      <th>1</th>\n",
       "      <td>d2p14</td>\n",
       "      <td>F</td>\n",
       "      <td>0.275321</td>\n",
       "      <td>0.142857</td>\n",
       "      <td>[0.0, 0.0, 0.0, 0.0, 0.0, 0.0, 0.0, 0.0, 0.0, ...</td>\n",
       "      <td>[0.0, 0.0014265335235378032, 0.002853067047075...</td>\n",
       "      <td>[1.959585039852429, 0.9595850398524289, 0.9583...</td>\n",
       "    </tr>\n",
       "    <tr>\n",
       "      <th>2</th>\n",
       "      <td>d1p53</td>\n",
       "      <td>F</td>\n",
       "      <td>0.108879</td>\n",
       "      <td>0.007092</td>\n",
       "      <td>[0.0, 0.0, 0.0, 0.0, 0.0, 0.0, 0.0, 0.0, 0.0, ...</td>\n",
       "      <td>[0.0, 0.0010570824524312897, 0.002114164904862...</td>\n",
       "      <td>[1.7497760856804367, 0.7497760856804367, 0.749...</td>\n",
       "    </tr>\n",
       "    <tr>\n",
       "      <th>3</th>\n",
       "      <td>d2p23</td>\n",
       "      <td>F</td>\n",
       "      <td>0.000000</td>\n",
       "      <td>0.224138</td>\n",
       "      <td>[0.0, 0.0, 0.0, 0.017241379310344827, 0.034482...</td>\n",
       "      <td>[0.0, 0.3333333333333333, 0.6666666666666666, ...</td>\n",
       "      <td>[1.823798637453376, 0.823798637453376, 0.81047...</td>\n",
       "    </tr>\n",
       "    <tr>\n",
       "      <th>4</th>\n",
       "      <td>d2p02</td>\n",
       "      <td>F</td>\n",
       "      <td>0.078563</td>\n",
       "      <td>0.857143</td>\n",
       "      <td>[0.0, 0.0, 0.0, 0.0, 0.0, 0.0, 0.0, 0.0, 0.0, ...</td>\n",
       "      <td>[0.0, 0.001122334455667789, 0.0022446689113355...</td>\n",
       "      <td>[1.9915010407979465, 0.9915010407979465, 0.991...</td>\n",
       "    </tr>\n",
       "  </tbody>\n",
       "</table>\n",
       "</div>"
      ],
      "text/plain": [
       "  Subject Gender     FNR05     FPR05  \\\n",
       "0   d2p24      F  0.030675  0.500000   \n",
       "1   d2p14      F  0.275321  0.142857   \n",
       "2   d1p53      F  0.108879  0.007092   \n",
       "3   d2p23      F  0.000000  0.224138   \n",
       "4   d2p02      F  0.078563  0.857143   \n",
       "\n",
       "                                                 FPR  \\\n",
       "0  [0.0, 0.0, 0.0, 0.0, 0.0, 0.0, 0.0, 0.0, 0.0, ...   \n",
       "1  [0.0, 0.0, 0.0, 0.0, 0.0, 0.0, 0.0, 0.0, 0.0, ...   \n",
       "2  [0.0, 0.0, 0.0, 0.0, 0.0, 0.0, 0.0, 0.0, 0.0, ...   \n",
       "3  [0.0, 0.0, 0.0, 0.017241379310344827, 0.034482...   \n",
       "4  [0.0, 0.0, 0.0, 0.0, 0.0, 0.0, 0.0, 0.0, 0.0, ...   \n",
       "\n",
       "                                                 TPR  \\\n",
       "0  [0.0, 0.006134969325153374, 0.0122699386503067...   \n",
       "1  [0.0, 0.0014265335235378032, 0.002853067047075...   \n",
       "2  [0.0, 0.0010570824524312897, 0.002114164904862...   \n",
       "3  [0.0, 0.3333333333333333, 0.6666666666666666, ...   \n",
       "4  [0.0, 0.001122334455667789, 0.0022446689113355...   \n",
       "\n",
       "                                                  TH  \n",
       "0  [1.851216711722166, 0.8512167117221662, 0.8495...  \n",
       "1  [1.959585039852429, 0.9595850398524289, 0.9583...  \n",
       "2  [1.7497760856804367, 0.7497760856804367, 0.749...  \n",
       "3  [1.823798637453376, 0.823798637453376, 0.81047...  \n",
       "4  [1.9915010407979465, 0.9915010407979465, 0.991...  "
      ]
     },
     "execution_count": 144,
     "metadata": {},
     "output_type": "execute_result"
    }
   ],
   "source": [
    "results = pd.DataFrame(results, columns=['Subject', 'Gender', 'FNR05', 'FPR05', 'FPR', 'TPR', 'TH'])\n",
    "results.head()"
   ]
  },
  {
   "cell_type": "code",
   "execution_count": 145,
   "metadata": {},
   "outputs": [
    {
     "data": {
      "text/plain": [
       "<seaborn.axisgrid.FacetGrid at 0x7fed71b13430>"
      ]
     },
     "execution_count": 145,
     "metadata": {},
     "output_type": "execute_result"
    },
    {
     "data": {
      "image/png": "[encoded data removed]",
      "text/plain": [
       "<Figure size 404.875x360 with 1 Axes>"
      ]
     },
     "metadata": {
      "needs_background": "light"
     },
     "output_type": "display_data"
    }
   ],
   "source": [
    "sns.displot(x='FNR05', hue='Gender', data=results)"
   ]
  },
  {
   "cell_type": "code",
   "execution_count": 146,
   "metadata": {},
   "outputs": [
    {
     "data": {
      "text/plain": [
       "Gender\n",
       "F    0.285493\n",
       "M    0.115846\n",
       "Name: FNR05, dtype: float64"
      ]
     },
     "execution_count": 146,
     "metadata": {},
     "output_type": "execute_result"
    }
   ],
   "source": [
    "results.groupby('Gender').FNR05.mean()"
   ]
  }
 ],
 "metadata": {
  "kernelspec": {
   "display_name": "Python 3",
   "language": "python",
   "name": "python3"
  },
  "language_info": {
   "codemirror_mode": {
    "name": "ipython",
    "version": 3
   },
   "file_extension": ".py",
   "mimetype": "text/x-python",
   "name": "python",
   "nbconvert_exporter": "python",
   "pygments_lexer": "ipython3",
   "version": "3.7.6"
  }
 },
 "nbformat": 4,
 "nbformat_minor": 5
}
