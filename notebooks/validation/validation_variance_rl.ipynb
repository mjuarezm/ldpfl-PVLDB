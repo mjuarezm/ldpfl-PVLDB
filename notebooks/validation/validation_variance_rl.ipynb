{
 "cells": [
  {
   "cell_type": "markdown",
   "metadata": {
    "toc": "true"
   },
   "source": [
    "# Table of Contents\n",
    " <p>"
   ]
  },
  {
   "cell_type": "code",
   "execution_count": 18,
   "metadata": {},
   "outputs": [
    {
     "name": "stdout",
     "output_type": "stream",
     "text": [
      "The autoreload extension is already loaded. To reload it, use:\n",
      "  %reload_ext autoreload\n"
     ]
    }
   ],
   "source": [
    "%load_ext autoreload\n",
    "%autoreload 2"
   ]
  },
  {
   "cell_type": "code",
   "execution_count": 25,
   "metadata": {},
   "outputs": [],
   "source": [
    "import pandas as pd\n",
    "import numpy as np\n",
    "import numpy.random as rnd\n",
    "from scipy.special import expit\n",
    "\n",
    "import seaborn as sns\n",
    "import matplotlib.pyplot as plt\n",
    "\n",
    "from util import trunc_norm"
   ]
  },
  {
   "cell_type": "code",
   "execution_count": 26,
   "metadata": {},
   "outputs": [],
   "source": [
    "n  = 10   # number of clients in the group\n",
    "n_ = 10   # number of clients in the other group\n",
    "\n",
    "N =  6    # 10**N number of samples\n",
    "\n",
    "e1 = 0.25\n",
    "e2 = 0.5\n",
    "a = expit(e1)\n",
    "ee1 = np.exp(-e1)\n",
    "\n",
    "b = 2. / e2\n",
    "\n",
    "μ = n * a           # mean of the bernoulli (group size)\n",
    "σ_b = a * (1 - a)   # variance of bernoulli (group perturbation)\n",
    "σ_l = 2*(b**2)      # variance of laplace (value noise)"
   ]
  },
  {
   "cell_type": "code",
   "execution_count": 27,
   "metadata": {},
   "outputs": [],
   "source": [
    "def gen_data(samples, n, n_, a, b):\n",
    "    np.random.seed(1)\n",
    "\n",
    "    A = np.ones((samples, n), dtype=int)\n",
    "    B = np.zeros((samples, n_), dtype=int)\n",
    "    g = np.concatenate((A, B), axis=1)\n",
    "\n",
    "    vA = trunc_norm(loc=0., scale=0.33, size=n)\n",
    "    vB = np.zeros(n_, dtype=float)\n",
    "    v = np.concatenate((vA, vB))\n",
    "    v = np.tile(v, (samples, 1))\n",
    "\n",
    "    # DP protection\n",
    "    new_g, new_v = g.copy(), v.copy()\n",
    "    mask = rnd.binomial(1, 1 - a, size=g.shape).astype(bool)\n",
    "    new_g[mask] = 1 - new_g[mask]\n",
    "    new_v += rnd.laplace(loc=0.0, scale=b, size=v.shape)\n",
    "\n",
    "    return np.ma.array(v, mask=1 - g), np.ma.array(new_v, mask=1 - new_g)"
   ]
  },
  {
   "cell_type": "code",
   "execution_count": 28,
   "metadata": {},
   "outputs": [
    {
     "data": {
      "image/png": "[encoded data removed]",
      "text/plain": [
       "<Figure size 432x288 with 1 Axes>"
      ]
     },
     "metadata": {
      "needs_background": "light"
     },
     "output_type": "display_data"
    }
   ],
   "source": [
    "def exp(sample_exp):\n",
    "    v, w = gen_data(10**sample_exp, n, n_, a, b)\n",
    "    m = v.mean()\n",
    "    for i in np.logspace(1, sample_exp - 1, sample_exp - 1, dtype=int):\n",
    "        yield i, m, w[:i, :].mean(1).mean() / a\n",
    "\n",
    "g = sns.lineplot(x='Num samples', y='value', hue='variable',\n",
    "                 data=(pd.DataFrame(exp(N), columns=['Num samples', 'True', 'Estimate'])\n",
    "                         .melt(id_vars='Num samples', value_vars=['True' , 'Estimate'])))\n",
    "g.set(xscale='log', title='Bias of the estimator');"
   ]
  },
  {
   "cell_type": "code",
   "execution_count": 30,
   "metadata": {},
   "outputs": [
    {
     "name": "stdout",
     "output_type": "stream",
     "text": [
      "10.136700446471018 2.287619155147442\n",
      "10.136700446471018 7.422190855996226\n",
      "10.136700446471018 9.849682467219363\n",
      "10.136700446471018 10.062271466111804\n",
      "10.136700446471018 10.013604699293609\n"
     ]
    },
    {
     "data": {
      "image/png": "[encoded data removed]",
      "text/plain": [
       "<Figure size 432x288 with 1 Axes>"
      ]
     },
     "metadata": {
      "needs_background": "light"
     },
     "output_type": "display_data"
    }
   ],
   "source": [
    "def exp(sample_exp):\n",
    "    v, w = gen_data(10**sample_exp, n, n_, a, b)\n",
    "    ν2 = np.square(v).mean(1).mean()\n",
    "    ee_pol = (ee1**2) + (2 * ee1 + 1)\n",
    "    est_var = (ν2 * ee1 + σ_l * ee_pol) / n\n",
    "    for i in np.logspace(1, sample_exp - 1, sample_exp - 1, dtype=int):\n",
    "        emp_var = (w[:i, :].sum(1) / (n * a)).var()\n",
    "        print(est_var, emp_var)\n",
    "        yield i, emp_var, est_var\n",
    "\n",
    "g = sns.lineplot(x='Num samples', y='value', hue='variable',\n",
    "                 data=(pd.DataFrame(exp(N), columns=['Num samples', 'Empirical', 'Theory'])\n",
    "                         .melt(id_vars='Num samples', value_vars=['Empirical' , 'Theory'])))\n",
    "g.set(xscale='log', title='Variance of the estimator');"
   ]
  },
  {
   "cell_type": "code",
   "execution_count": 31,
   "metadata": {},
   "outputs": [
    {
     "data": {
      "text/plain": [
       "10.132453708907418"
      ]
     },
     "execution_count": 31,
     "metadata": {},
     "output_type": "execute_result"
    }
   ],
   "source": [
    "v, w = gen_data(10**6, n, n_, a, b)\n",
    "ν2 = np.square(v).mean(1).mean()\n",
    "(w.sum(1) / (n * a)).var()"
   ]
  },
  {
   "cell_type": "code",
   "execution_count": null,
   "metadata": {},
   "outputs": [],
   "source": []
  }
 ],
 "metadata": {
  "kernelspec": {
   "display_name": "Python 3",
   "language": "python",
   "name": "python3"
  },
  "language_info": {
   "codemirror_mode": {
    "name": "ipython",
    "version": 3
   },
   "file_extension": ".py",
   "mimetype": "text/x-python",
   "name": "python",
   "nbconvert_exporter": "python",
   "pygments_lexer": "ipython3",
   "version": "3.7.6"
  },
  "latex_envs": {
   "bibliofile": "biblio.bib",
   "cite_by": "apalike",
   "current_citInitial": 1,
   "eqLabelWithNumbers": true,
   "eqNumInitial": 0
  },
  "toc": {
   "toc_cell": true,
   "toc_number_sections": true,
   "toc_threshold": 6,
   "toc_window_display": false
  }
 },
 "nbformat": 4,
 "nbformat_minor": 4
}
