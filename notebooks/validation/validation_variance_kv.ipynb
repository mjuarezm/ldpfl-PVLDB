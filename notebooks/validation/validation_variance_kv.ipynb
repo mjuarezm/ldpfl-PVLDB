{
 "cells": [
  {
   "cell_type": "markdown",
   "metadata": {
    "toc": "true"
   },
   "source": [
    "# Table of Contents\n",
    " <p>"
   ]
  },
  {
   "cell_type": "code",
   "execution_count": 1,
   "metadata": {},
   "outputs": [],
   "source": [
    "%load_ext autoreload\n",
    "%autoreload 2"
   ]
  },
  {
   "cell_type": "code",
   "execution_count": 2,
   "metadata": {},
   "outputs": [],
   "source": [
    "import pandas as pd\n",
    "import numpy as np\n",
    "import numpy.random as rnd\n",
    "from scipy.special import expit\n",
    "\n",
    "import seaborn as sns\n",
    "import matplotlib.pyplot as plt\n",
    "\n",
    "from util import trunc_norm"
   ]
  },
  {
   "cell_type": "code",
   "execution_count": 6,
   "metadata": {},
   "outputs": [],
   "source": [
    "n  = 10   # number of clients in the group\n",
    "n_ = 10   # number of clients in the other group\n",
    "N  = 6    # 10**N number of samples\n",
    "\n",
    "e1 = 0.5\n",
    "e2 = 0.5\n",
    "\n",
    "a = expit(e1)\n",
    "b = expit(e2)\n",
    "\n",
    "a_ = 1 - a\n",
    "b_ = 1 - b"
   ]
  },
  {
   "cell_type": "code",
   "execution_count": 7,
   "metadata": {},
   "outputs": [],
   "source": [
    "def gen_data(samples, seed=0):\n",
    "    np.random.seed(seed)\n",
    "    \n",
    "    A = np.ones((samples, n), dtype=int)\n",
    "    B = np.zeros((samples, n_), dtype=int)\n",
    "    g = np.concatenate((A, B), axis=1)\n",
    "    \n",
    "    vA = trunc_norm(loc=0., scale=0.33, size=n)\n",
    "    vB = np.zeros(n_, dtype=float)\n",
    "    \n",
    "    v = np.concatenate((vA, vB))\n",
    "    v = np.tile(v, (samples, 1))\n",
    "\n",
    "    # DP protection\n",
    "    new_g, new_v = g.copy(), v.copy()\n",
    "    new_v = rnd.binomial(1, (1 + new_v) / 2)\n",
    "    \n",
    "    rr_group = rnd.binomial(1, 1 - a, size=g.shape).astype(bool)\n",
    "    new_g[rr_group] = 1 - new_g[rr_group]\n",
    "    \n",
    "    rr_value = rnd.binomial(1, 1 - b, size=v.shape).astype(bool)\n",
    "    new_v[rr_value] = 1 - new_v[rr_value]\n",
    "    new_v = 2 * new_v - 1\n",
    "    \n",
    "    return np.ma.array(v, mask=1 - g), np.ma.array(new_v, mask=1 - new_g)"
   ]
  },
  {
   "cell_type": "code",
   "execution_count": 8,
   "metadata": {},
   "outputs": [
    {
     "data": {
      "image/png": "[encoded data removed]",
      "text/plain": [
       "<Figure size 432x288 with 1 Axes>"
      ]
     },
     "metadata": {
      "needs_background": "light"
     },
     "output_type": "display_data"
    }
   ],
   "source": [
    "def exp(sample_exp):\n",
    "    v, w = gen_data(10**sample_exp)\n",
    "    m = v.mean()\n",
    "    for i in np.logspace(1, sample_exp - 1, sample_exp - 1, dtype=int):\n",
    "        est = (w[:i, :].sum(1) / (n * a * ((2 * b) - 1))).mean()\n",
    "        yield i, m, est\n",
    "\n",
    "g = sns.lineplot(x='Num Samples', y='value', hue='variable',\n",
    "                 data=(pd.DataFrame(exp(N), columns=['Num Samples', 'True', 'Estimate'])\n",
    "                         .melt(id_vars='Num Samples', value_vars=['True' , 'Estimate'])))\n",
    "g.set(xscale='log', title='Bias of the estimator');"
   ]
  },
  {
   "cell_type": "code",
   "execution_count": 9,
   "metadata": {},
   "outputs": [
    {
     "name": "stdout",
     "output_type": "stream",
     "text": [
      "6.922936095294273 4.296761545352393\n",
      "5.704043263450943 4.296761545352393\n",
      "4.724118654561403 4.296761545352393\n",
      "4.408767410180775 4.296761545352393\n",
      "4.308705553495271 4.296761545352393\n"
     ]
    },
    {
     "data": {
      "image/png": "[encoded data removed]",
      "text/plain": [
       "<Figure size 432x288 with 1 Axes>"
      ]
     },
     "metadata": {
      "needs_background": "light"
     },
     "output_type": "display_data"
    }
   ],
   "source": [
    "table_csv = []\n",
    "def exp(sample_exp):\n",
    "    v, w = gen_data(10**sample_exp)\n",
    "    ν2 = np.square(v).mean(1).mean()\n",
    "    b2 = (2 * b) - 1\n",
    "    est_var = (1 - (a * ν2 * (b2**2)) + ((1 - a) / a)) / (n * (b2**2) * a)\n",
    "    for i in np.logspace(1, sample_exp - 1, sample_exp - 1, dtype=int):\n",
    "        emp = (w[:i, :].sum(1) / (n * (a * ((2 * b) - 1)))).var()\n",
    "        table_csv.append((i, emp, est_var))\n",
    "        print(emp, est_var)\n",
    "        yield i, emp, est_var\n",
    "\n",
    "g = sns.lineplot(x='Num samples', y='value', hue='variable',\n",
    "                 data=(pd.DataFrame(exp(N), columns=['Num samples', 'Empirical', 'Theory'])\n",
    "                         .melt(id_vars='Num samples', value_vars=['Empirical' , 'Theory'])))\n",
    "g.set(xscale='log', title='Variance of the estimator');"
   ]
  },
  {
   "cell_type": "code",
   "execution_count": 10,
   "metadata": {},
   "outputs": [
    {
     "data": {
      "text/plain": [
       "4.296092394784529"
      ]
     },
     "execution_count": 10,
     "metadata": {},
     "output_type": "execute_result"
    }
   ],
   "source": [
    "v, w = gen_data(10**6)\n",
    "(w.sum(1) / (n * a * (2 * b - 1))).var()"
   ]
  },
  {
   "cell_type": "code",
   "execution_count": 11,
   "metadata": {},
   "outputs": [
    {
     "name": "stdout",
     "output_type": "stream",
     "text": [
      "Samples,Empirical,Theoretical\n",
      "10,6.923,4.297\n",
      "100,5.704,4.297\n",
      "1000,4.724,4.297\n",
      "10000,4.409,4.297\n",
      "100000,4.309,4.297\n",
      "\n"
     ]
    }
   ],
   "source": [
    "print(pd.DataFrame(table_csv, columns=[\"Samples\", \"Empirical\", \"Theoretical\"]).to_csv(index=False, float_format='%.3f'))"
   ]
  },
  {
   "cell_type": "markdown",
   "metadata": {},
   "source": [
    "## Test Chebyshev"
   ]
  },
  {
   "cell_type": "code",
   "execution_count": 8,
   "metadata": {},
   "outputs": [],
   "source": [
    "from scipy import stats\n",
    "from scipy import optimize\n",
    "\n",
    "from tqdm.notebook import tqdm\n",
    "\n",
    "\n",
    "# Params\n",
    "K = 10000000 # num clients\n",
    "n = K // 2\n",
    "ns = 1  # num samples"
   ]
  },
  {
   "cell_type": "code",
   "execution_count": 9,
   "metadata": {},
   "outputs": [
    {
     "name": "stdout",
     "output_type": "stream",
     "text": [
      "0.049987471283302796 -0.19998627914504644\n"
     ]
    }
   ],
   "source": [
    "# Sammple data\n",
    "\n",
    "## value distributions\n",
    "dist0 = stats.norm(loc=-0.2, scale=0.1)\n",
    "dist1 = stats.norm(loc=0.2, scale=0.1) \n",
    "\n",
    "g = np.hstack((np.zeros(shape=(ns, n)), np.ones(shape=(ns, n))))\n",
    "v = np.hstack((dist0.rvs(size=(ns, n), random_state=0), dist1.rvs(size=(ns, n), random_state=0)))\n",
    "\n",
    "\n",
    "v0 = np.ma.array(v, mask=g)\n",
    "ν02 = (v0**2).mean()\n",
    "true_means0 = v0.mean(1)\n",
    "print(ν02, true_means0.mean())"
   ]
  },
  {
   "cell_type": "code",
   "execution_count": 59,
   "metadata": {},
   "outputs": [
    {
     "name": "stdout",
     "output_type": "stream",
     "text": [
      "0.3122447216053071 0.2743366541382526 0.01 0.25\n"
     ]
    }
   ],
   "source": [
    "alpha = 0.01\n",
    "prob = 0.25\n",
    "\n",
    "\n",
    "def theo_var(x):\n",
    "    c = expit(x)\n",
    "    return (1 - (c * ν02 * ((2 * c - 1)**2)) + (((K - n) / n) * ((1 - c) / c))) / (n * ((2 * c - 1)**2) * c)\n",
    "\n",
    "\n",
    "def chebyshev_upper(x):\n",
    "    # upper for probability but lower for error\n",
    "    return theo_var(x) / (alpha**2) - prob\n",
    "\n",
    "\n",
    "def chebyshev_lower(x):\n",
    "    # lower for probability but upper bound for error\n",
    "    M2 = (1 - prob) / prob\n",
    "    return np.sqrt(M2 * theo_var(x)) - alpha\n",
    "\n",
    "\n",
    "eps1 = optimize.root(chebyshev_upper, 0.0001)\n",
    "eps2 = optimize.root(chebyshev_lower, 0.0001)\n",
    "print(eps1.x[0], eps2.x[0], alpha, prob)"
   ]
  },
  {
   "cell_type": "code",
   "execution_count": 60,
   "metadata": {},
   "outputs": [
    {
     "data": {
      "image/png": "[encoded data removed]",
      "text/plain": [
       "<Figure size 432x288 with 1 Axes>"
      ]
     },
     "metadata": {
      "needs_background": "light"
     },
     "output_type": "display_data"
    }
   ],
   "source": [
    "xs = np.linspace(0.1, 4, 100)\n",
    "var_vect = np.vectorize(theo_var)\n",
    "ax1 = sns.lineplot(x=xs, y=var_vect(xs) / ((alpha)**2), color='blue')"
   ]
  },
  {
   "cell_type": "code",
   "execution_count": 61,
   "metadata": {},
   "outputs": [],
   "source": [
    "p = expit(eps1.x[0])"
   ]
  },
  {
   "cell_type": "code",
   "execution_count": 62,
   "metadata": {},
   "outputs": [
    {
     "data": {
      "application/vnd.jupyter.widget-view+json": {
       "model_id": "3f962b63692b45f198202c25c9743b86",
       "version_major": 2,
       "version_minor": 0
      },
      "text/plain": [
       "  0%|          | 0/100 [00:00<?, ?it/s]"
      ]
     },
     "metadata": {},
     "output_type": "display_data"
    },
    {
     "name": "stdout",
     "output_type": "stream",
     "text": [
      "0.06 0.25\n"
     ]
    }
   ],
   "source": [
    "uppers, lowers = [], []\n",
    "for i in tqdm(range(100)):\n",
    "    # DP mechanism\n",
    "    new_g, new_v = g.copy(), v.copy()\n",
    "\n",
    "    ## protect group\n",
    "    rr_group = rnd.binomial(1, 1 - p, size=g.shape).astype(bool)\n",
    "    new_g[rr_group] = 1 - new_g[rr_group]\n",
    "\n",
    "    ## protect value\n",
    "    new_v[rr_group] = 0.\n",
    "    new_v = rnd.binomial(1, (1 + new_v) / 2)\n",
    "    rr_value = rnd.binomial(1, 1 - p, size=v.shape).astype(bool)\n",
    "    new_v[rr_value] = 1 - new_v[rr_value]\n",
    "    new_v = 2 * new_v - 1\n",
    "\n",
    "    w0 = np.ma.array(new_v, mask=new_g)\n",
    "    est_mean0 = (w0.sum(1) / (n * p * (2 * p - 1))).mean()\n",
    "    error = np.abs(est_mean0 - true_means0.mean())\n",
    "    #est_mean0, true_means0.mean(), error\n",
    "\n",
    "    uppers.append(int(error > alpha))\n",
    "    lowers.append(int(error < alpha))\n",
    "    \n",
    "# Chebyshev upper (Pr[error  >  alpha] < prob)\n",
    "emp_prob = sum(uppers) / len(uppers)\n",
    "print(emp_prob, prob)\n",
    "assert emp_prob < prob"
   ]
  }
 ],
 "metadata": {
  "kernelspec": {
   "display_name": "Python 3",
   "language": "python",
   "name": "python3"
  },
  "language_info": {
   "codemirror_mode": {
    "name": "ipython",
    "version": 3
   },
   "file_extension": ".py",
   "mimetype": "text/x-python",
   "name": "python",
   "nbconvert_exporter": "python",
   "pygments_lexer": "ipython3",
   "version": "3.7.6"
  },
  "latex_envs": {
   "bibliofile": "biblio.bib",
   "cite_by": "apalike",
   "current_citInitial": 1,
   "eqLabelWithNumbers": true,
   "eqNumInitial": 0
  },
  "toc": {
   "toc_cell": true,
   "toc_number_sections": true,
   "toc_threshold": 6,
   "toc_window_display": false
  }
 },
 "nbformat": 4,
 "nbformat_minor": 4
}
